{
 "cells": [
  {
   "cell_type": "code",
   "execution_count": 1,
   "id": "898c868c-f076-493c-a092-8d54eadf4c64",
   "metadata": {},
   "outputs": [],
   "source": [
    "import sys\n",
    "import csv\n",
    "import math\n",
    "import mediapipe as mp\n",
    "mp_pose = mp.solutions.pose\n",
    "\n",
    "FILE = '../poseShredder/output/BodyWeightSquats/v_BodyWeightSquats_g01_c02.csv'"
   ]
  },
  {
   "cell_type": "markdown",
   "id": "c93da2c8-b313-4a41-8976-0cee50b2ba15",
   "metadata": {},
   "source": [
    "## Loading data in from CSV files"
   ]
  },
  {
   "cell_type": "code",
   "execution_count": 2,
   "id": "b9526eac-62a3-4191-94f5-fa0a3f240980",
   "metadata": {},
   "outputs": [],
   "source": [
    "data = []\n",
    "with open(FILE, \"r\") as file:\n",
    "    rows = file.readlines()\n",
    "    for row in rows[1:]:\n",
    "        row = row.strip('\\n')\n",
    "        data.append(row.split(\",\"))"
   ]
  },
  {
   "cell_type": "markdown",
   "id": "27e03a1d-c389-4ad0-811d-ab9261934bab",
   "metadata": {
    "tags": []
   },
   "source": [
    "## Process Data"
   ]
  },
  {
   "cell_type": "code",
   "execution_count": 3,
   "id": "e9564477-ec9b-4fc7-ab8c-036447c34a48",
   "metadata": {},
   "outputs": [
    {
     "name": "stdout",
     "output_type": "stream",
     "text": [
      "[(0.43916788697242737, 0.0836205780506134, -0.10645562410354614, 0.9999191761016846), (0.4448183476924896, 0.06693199276924133, -0.1325107216835022, 0.9998944997787476), (0.446135938167572, 0.0666859820485115, -0.13253428041934967, 0.9998859167098999), (0.4473688006401062, 0.06645181775093079, -0.13255229592323303, 0.9999145269393921), (0.4444039463996887, 0.06637898087501526, -0.08584737032651901, 0.9998995065689087), (0.4454638361930847, 0.06577029824256897, -0.08580191433429718, 0.9998834133148193), (0.44652676582336426, 0.06511515378952026, -0.0858902633190155, 0.9999109506607056), (0.4609125554561615, 0.07179585099220276, -0.19502025842666626, 0.9999302625656128), (0.460165411233902, 0.07063668221235275, 0.010518137365579605, 0.9998739957809448), (0.44554781913757324, 0.09962356090545654, -0.12642651796340942, 0.9999603033065796), (0.44436269998550415, 0.0997084379196167, -0.06650827080011368, 0.9999449253082275), (0.486804336309433, 0.169125497341156, -0.3169011175632477, 0.9999960660934448), (0.48760563135147095, 0.17981113493442535, 0.17095455527305603, 0.9999207258224487), (0.4825859069824219, 0.3195341229438782, -0.36971667408943176, 0.9973747730255127), (0.4797953963279724, 0.323294460773468, 0.222018763422966, 0.291095495223999), (0.43025392293930054, 0.4168150722980499, -0.3574712872505188, 0.9944228529930115), (0.4256838262081146, 0.414986789226532, 0.1249469742178917, 0.40220752358436584), (0.4159518778324127, 0.44639503955841064, -0.41332682967185974, 0.9876199960708618), (0.4099014699459076, 0.4412508010864258, 0.12481720745563507, 0.3683711290359497), (0.41100043058395386, 0.4412693977355957, -0.4058436453342438, 0.9864082336425781), (0.4053494334220886, 0.4351828992366791, 0.07372814416885376, 0.37575334310531616), (0.4160781800746918, 0.4307157099246979, -0.3536919057369232, 0.9737087488174438), (0.4112599492073059, 0.42694157361984253, 0.09973394125699997, 0.3833349049091339), (0.5075772404670715, 0.4343265891075134, -0.1388944536447525, 0.9985218644142151), (0.507766604423523, 0.43129587173461914, 0.13889166712760925, 0.9970471262931824), (0.4985102713108063, 0.6451451778411865, -0.0742390975356102, 0.8728553652763367), (0.5018253326416016, 0.6290737390518188, 0.19041912257671356, 0.25798794627189636), (0.49612197279930115, 0.8296850323677063, 0.034834567457437515, 0.8801115155220032), (0.4985126554965973, 0.8240586519241333, 0.29871755838394165, 0.2978664040565491), (0.5025864839553833, 0.8335205912590027, 0.038316577672958374, 0.8250100612640381), (0.5032603144645691, 0.829633355140686, 0.3033730089664459, 0.4159601628780365), (0.4413297176361084, 0.8399355411529541, -0.07326222956180573, 0.8840624690055847), (0.44924360513687134, 0.8331263065338135, 0.2096211016178131, 0.5017864108085632)]\n"
     ]
    }
   ],
   "source": [
    "point_data = []\n",
    "for row in data:\n",
    "    row_points = []\n",
    "    row = row[1:]\n",
    "    index = 0\n",
    "    for lmk in mp_pose.PoseLandmark:\n",
    "        row_points.append((float(row[index]),float(row[index+1]),float(row[index+2]),float(row[index+3])))\n",
    "        index += 4\n",
    "        \n",
    "    point_data.append(row_points)\n",
    "        \n",
    "print(point_data[0])"
   ]
  },
  {
   "cell_type": "code",
   "execution_count": 4,
   "id": "cf71a7d9-fd37-4946-969d-f179950ad78b",
   "metadata": {},
   "outputs": [
    {
     "data": {
      "text/html": [
       "<div id=\"glowscript\" class=\"glowscript\"></div>"
      ],
      "text/plain": [
       "<IPython.core.display.HTML object>"
      ]
     },
     "metadata": {},
     "output_type": "display_data"
    },
    {
     "data": {
      "application/javascript": [
       "if (typeof Jupyter !== \"undefined\") { window.__context = { glowscript_container: $(\"#glowscript\").removeAttr(\"id\")};}else{ element.textContent = ' ';}"
      ],
      "text/plain": [
       "<IPython.core.display.Javascript object>"
      ]
     },
     "metadata": {},
     "output_type": "display_data"
    }
   ],
   "source": [
    "from vpython import *"
   ]
  },
  {
   "cell_type": "code",
   "execution_count": 6,
   "id": "e9a15b93-13b7-4639-a4f3-545fe36d8275",
   "metadata": {},
   "outputs": [],
   "source": [
    "# Make points\n",
    "try:\n",
    "    pts\n",
    "except:\n",
    "    pts = []\n",
    "    for lmk in mp_pose.PoseLandmark:\n",
    "        pts.append(sphere(radius=0.03, pos=vector(0,0,0)))\n",
    "    pass \n",
    "    # connections = []\n",
    "    # for cn in mp_pose.POSE_CONNECTIONS:\n",
    "    #     connections.append(curve(vector(0.0,0.0,0.0), vector(1.0,1.0,1.0)))\n",
    "\n",
    "# Update points based on frame\n",
    "for i in range(len(point_data)):\n",
    "    rate(10)\n",
    "    # Update points\n",
    "    for j in range(len(point_data[i])):\n",
    "        pts[j].pos = vector(point_data[i][j][0],1-point_data[i][j][1],point_data[i][j][2])\n",
    "        pts[j].color = vector(1.0, point_data[i][j][3], point_data[i][j][3])\n",
    "    # Update connections\n",
    "    # for idx, c in connections:\n",
    "    #     #c.point(0)['pos'] = pts[mp_pose.POSE_CONNECTIONS[idx][0]].pos\n",
    "    #     #c.point(1)['pos'] = pts[mp_pose.POSE_CONNECTIONS[idx][1]].pos\n",
    "    #     pass"
   ]
  }
 ],
 "metadata": {
  "kernelspec": {
   "display_name": "Python 3 (ipykernel)",
   "language": "python",
   "name": "python3"
  },
  "language_info": {
   "codemirror_mode": {
    "name": "ipython",
    "version": 3
   },
   "file_extension": ".py",
   "mimetype": "text/x-python",
   "name": "python",
   "nbconvert_exporter": "python",
   "pygments_lexer": "ipython3",
   "version": "3.10.2"
  }
 },
 "nbformat": 4,
 "nbformat_minor": 5
}
