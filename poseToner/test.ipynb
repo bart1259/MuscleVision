{
 "cells": [
  {
   "cell_type": "code",
   "execution_count": null,
   "id": "78fadfa4-11a1-40f8-880d-ee8500feb86a",
   "metadata": {
    "pycharm": {
     "is_executing": true
    }
   },
   "outputs": [],
   "source": [
    "from vpython import *\n",
    "\n",
    "my_sphere = sphere(pos=vector(0,0,0), radius=0.25, color=color.green )\n",
    "wall1 = box(pos=vector(2,0,0), size=vector(0.1,1,1), color=color.white)\n",
    "wall2 = box(pos=vector(-2,0,0), size=vector(0.1,1,1), color=color.white)\n",
    "# define the inner edge that ball hits\n",
    "edge1 = wall1.pos.x - wall1.size.x/2\n",
    "edge2 = wall2.pos.x - wall2.size.x/2\n",
    "# while loop does the animation\n",
    "dx = 0.01 # dx is distance ball moves for each loop\n",
    "while True:\n",
    "    rate(100) # delay between each loop\n",
    "    if (my_sphere.pos.x + my_sphere.radius >= edge1) or (my_sphere.pos.x - my_sphere.radius <= edge2):\n",
    "        dx = -dx # if sphere at wall, reverse direction\n",
    "    my_sphere.pos.x = my_sphere.pos.x+dx # move sphere’s x position by dx"
   ]
  },
  {
   "cell_type": "code",
   "execution_count": null,
   "id": "fe62c932-f675-436c-8cd6-6fc69c249757",
   "metadata": {},
   "outputs": [],
   "source": []
  },
  {
   "cell_type": "code",
   "execution_count": null,
   "outputs": [],
   "source": [],
   "metadata": {
    "collapsed": false,
    "pycharm": {
     "name": "#%%\n"
    }
   }
  }
 ],
 "metadata": {
  "kernelspec": {
   "display_name": "Python 3 (ipykernel)",
   "language": "python",
   "name": "python3"
  },
  "language_info": {
   "codemirror_mode": {
    "name": "ipython",
    "version": 3
   },
   "file_extension": ".py",
   "mimetype": "text/x-python",
   "name": "python",
   "nbconvert_exporter": "python",
   "pygments_lexer": "ipython3",
   "version": "3.7.9"
  }
 },
 "nbformat": 4,
 "nbformat_minor": 5
}