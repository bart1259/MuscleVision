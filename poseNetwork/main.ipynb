{
 "cells": [
  {
   "cell_type": "code",
   "execution_count": null,
   "metadata": {
    "collapsed": true
   },
   "outputs": [],
   "source": [
    "import pandas as pd\n",
    "import glob\n",
    "import re\n",
    "import matplotlib.pyplot as plt\n",
    "import numpy as np\n",
    "from keras.layers import LSTM, GlobalAveragePooling1D, Dense\n",
    "from keras.models import Sequential\n",
    "from keras.activations import sigmoid, relu\n",
    "from sklearn.model_selection import train_test_split\n",
    "\n",
    "datapath = \"./Input/\"\n",
    "types = [\"BodyWeightSquats\", \"PushUps\"]\n",
    "extension = \"*.csv\""
   ]
  },
  {
   "cell_type": "code",
   "execution_count": null,
   "metadata": {
    "collapsed": false,
    "pycharm": {
     "name": "#%%\n"
    }
   },
   "outputs": [],
   "source": [
    "main_df = pd.DataFrame()\n",
    "\n",
    "for count, cur in enumerate(types):\n",
    "    current_glob = glob.glob(datapath+cur+\"/\"+extension)\n",
    "    df = pd.DataFrame()\n",
    "    li = []\n",
    "\n",
    "    for filename in current_glob:\n",
    "        df = pd.read_csv(filename, index_col=None, header=0)\n",
    "        p = re.compile(\"\\\\\\\\v_(.*)\\.csv\")\n",
    "        filename = p.findall(filename)[0]\n",
    "        df.insert(0, 'example', filename)\n",
    "        df.insert(0, 'exercise', cur)\n",
    "        li.append(df)\n",
    "\n",
    "    frame = pd.concat(li, axis=0, ignore_index=True)\n",
    "    if count == 0:\n",
    "        main_df = pd.DataFrame(columns=frame.columns, data=frame)\n",
    "    else:\n",
    "        main_df = pd.concat([main_df, frame])\n",
    "\n",
    "\n",
    "print(main_df.head(100000))"
   ]
  },
  {
   "cell_type": "code",
   "execution_count": null,
   "metadata": {
    "collapsed": false,
    "pycharm": {
     "name": "#%%\n"
    }
   },
   "outputs": [],
   "source": [
    "max_frames = main_df.frame.max() + 1\n",
    "print(max_frames)\n",
    "plt.boxplot(main_df.frame)"
   ]
  },
  {
   "cell_type": "code",
   "execution_count": null,
   "metadata": {
    "collapsed": false,
    "pycharm": {
     "name": "#%%\n"
    }
   },
   "outputs": [],
   "source": [
    "print(len(pd.unique(main_df.example)))\n",
    "#print(main_df.head())\n",
    "yhat = main_df.groupby(by=\"example\").exercise.max()\n",
    "\n",
    "yhat = pd.get_dummies(yhat)\n",
    "print(yhat)"
   ]
  },
  {
   "cell_type": "code",
   "execution_count": null,
   "metadata": {
    "collapsed": false,
    "pycharm": {
     "name": "#%%\n"
    }
   },
   "outputs": [],
   "source": [
    "video_frames = []\n",
    "\n",
    "for video in main_df.groupby(by=\"example\"):\n",
    "    current = video[1]\n",
    "    current = current.drop(columns=[\"exercise\",\"frame\",\"example\"])\n",
    "    current = current.to_numpy()\n",
    "    #print(current.shape)\n",
    "    #print(type(current))\n",
    "    padded = np.ones((max_frames, 132))\n",
    "    padded *= -2\n",
    "    padded[0:current.shape[0],:] = current\n",
    "    video_frames.append(padded)\n",
    "\n",
    "x = np.stack(video_frames, axis=0)\n",
    "print(x.shape)\n",
    "#214 is the video count\n",
    "#267 is max length of video\n",
    "#132 is the number of features per frame"
   ]
  },
  {
   "cell_type": "code",
   "execution_count": null,
   "metadata": {
    "collapsed": false,
    "pycharm": {
     "name": "#%%\n"
    }
   },
   "outputs": [],
   "source": [
    "x_train, x_test, y_train, y_test = train_test_split(x, yhat)\n",
    "\n",
    "print(x_train.shape)\n",
    "print(x_test.shape)\n",
    "\n",
    "model = Sequential()\n",
    "model.add(LSTM(128))\n",
    "model.add(Dense(2, activation=\"softmax\"))\n",
    "model.compile(optimizer=\"adam\", loss=\"CategoricalCrossentropy\")\n",
    "\n",
    "model.fit(x, yhat)\n",
    "model.summary()"
   ]
  },
  {
   "cell_type": "code",
   "execution_count": null,
   "metadata": {
    "collapsed": false,
    "pycharm": {
     "name": "#%%\n"
    }
   },
   "outputs": [],
   "source": []
  }
 ],
 "metadata": {
  "kernelspec": {
   "display_name": "Python 3",
   "language": "python",
   "name": "python3"
  },
  "language_info": {
   "codemirror_mode": {
    "name": "ipython",
    "version": 3
   },
   "file_extension": ".py",
   "mimetype": "text/x-python",
   "name": "python",
   "nbconvert_exporter": "python",
   "pygments_lexer": "ipython3",
   "version": "3.10.2"
  }
 },
 "nbformat": 4,
 "nbformat_minor": 0
}
