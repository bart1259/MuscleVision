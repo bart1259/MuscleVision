{
 "cells": [
  {
   "cell_type": "code",
   "execution_count": 57,
   "metadata": {
    "collapsed": true
   },
   "outputs": [],
   "source": [
    "import pandas as pd\n",
    "import glob\n",
    "import re\n",
    "import matplotlib.pyplot as plt\n",
    "import numpy as np\n",
    "from keras.layers import LSTM, GlobalAveragePooling1D, Dense\n",
    "from keras.models import Sequential\n",
    "from keras.activations import sigmoid, relu\n",
    "datapath = \"./Input/\"\n",
    "types = [\"BodyWeightSquats\", \"PushUps\"]\n",
    "extension = \"*.csv\""
   ]
  },
  {
   "cell_type": "code",
   "execution_count": 3,
   "outputs": [
    {
     "name": "stdout",
     "output_type": "stream",
     "text": [
      "              exercise                   example  frame    NOSE.x    NOSE.y  \\\n",
      "0     BodyWeightSquats  BodyWeightSquats_g01_c01      0  0.468669  0.069361   \n",
      "1     BodyWeightSquats  BodyWeightSquats_g01_c01      1  0.468662  0.069879   \n",
      "2     BodyWeightSquats  BodyWeightSquats_g01_c01      2  0.468611  0.070022   \n",
      "3     BodyWeightSquats  BodyWeightSquats_g01_c01      3  0.468610  0.069943   \n",
      "4     BodyWeightSquats  BodyWeightSquats_g01_c01      4  0.468484  0.069916   \n",
      "...                ...                       ...    ...       ...       ...   \n",
      "8399           PushUps           PushUps_g25_c04     96  0.641914  0.718347   \n",
      "8400           PushUps           PushUps_g25_c04     97  0.643355  0.712380   \n",
      "8401           PushUps           PushUps_g25_c04     98  0.643144  0.702161   \n",
      "8402           PushUps           PushUps_g25_c04     99  0.636427  0.693687   \n",
      "8403           PushUps           PushUps_g25_c04    100  0.638258  0.684618   \n",
      "\n",
      "        NOSE.z    NOSE.v  LEFT_EYE_INNER.x  LEFT_EYE_INNER.y  \\\n",
      "0    -0.105805  0.999897          0.474977          0.054743   \n",
      "1    -0.103847  0.999899          0.475058          0.054792   \n",
      "2    -0.096247  0.999899          0.475086          0.054803   \n",
      "3    -0.096632  0.999902          0.475113          0.054752   \n",
      "4    -0.105230  0.999905          0.475108          0.054758   \n",
      "...        ...       ...               ...               ...   \n",
      "8399 -0.041630  0.998482          0.654601          0.712731   \n",
      "8400 -0.097662  0.998587          0.655464          0.706468   \n",
      "8401 -0.131786  0.998672          0.654846          0.695205   \n",
      "8402 -0.098183  0.998680          0.648859          0.686798   \n",
      "8403 -0.092309  0.998744          0.649887          0.676210   \n",
      "\n",
      "      LEFT_EYE_INNER.z  ...  RIGHT_HEEL.z  RIGHT_HEEL.v  LEFT_FOOT_INDEX.x  \\\n",
      "0            -0.130644  ...      0.270216      0.250623           0.447268   \n",
      "1            -0.130019  ...      0.360833      0.272931           0.447434   \n",
      "2            -0.123839  ...      0.322626      0.291431           0.445988   \n",
      "3            -0.125665  ...      0.367360      0.309039           0.442830   \n",
      "4            -0.134481  ...      0.377721      0.325329           0.438366   \n",
      "...                ...  ...           ...           ...                ...   \n",
      "8399         -0.040193  ...      0.050421      0.958218           0.153113   \n",
      "8400         -0.090782  ...      0.067876      0.958957           0.153923   \n",
      "8401         -0.120915  ...      0.061051      0.958011           0.142008   \n",
      "8402         -0.088198  ...      0.069688      0.956502           0.140524   \n",
      "8403         -0.083211  ...      0.152379      0.957017           0.141569   \n",
      "\n",
      "      LEFT_FOOT_INDEX.y  LEFT_FOOT_INDEX.z  LEFT_FOOT_INDEX.v  \\\n",
      "0              0.833848          -0.161711           0.873919   \n",
      "1              0.897315          -0.232938           0.881480   \n",
      "2              0.910515          -0.227214           0.888365   \n",
      "3              0.910877          -0.204548           0.895536   \n",
      "4              0.916788          -0.206196           0.902520   \n",
      "...                 ...                ...                ...   \n",
      "8399           0.723934           0.297861           0.662029   \n",
      "8400           0.724947           0.319272           0.669273   \n",
      "8401           0.713899           0.308427           0.669626   \n",
      "8402           0.713107           0.302956           0.663653   \n",
      "8403           0.715851           0.377960           0.666592   \n",
      "\n",
      "      RIGHT_FOOT_INDEX.x  RIGHT_FOOT_INDEX.y  RIGHT_FOOT_INDEX.z  \\\n",
      "0               0.456220            0.829370            0.183813   \n",
      "1               0.457442            0.836634            0.284860   \n",
      "2               0.455793            0.850108            0.240648   \n",
      "3               0.454846            0.849319            0.292866   \n",
      "4               0.453751            0.851982            0.302120   \n",
      "...                  ...                 ...                 ...   \n",
      "8399            0.116872            0.727545           -0.008316   \n",
      "8400            0.115900            0.726388            0.002076   \n",
      "8401            0.114429            0.725023           -0.009581   \n",
      "8402            0.114430            0.723275            0.001679   \n",
      "8403            0.118812            0.724260            0.085674   \n",
      "\n",
      "      RIGHT_FOOT_INDEX.v  \n",
      "0               0.286861  \n",
      "1               0.314432  \n",
      "2               0.340292  \n",
      "3               0.365791  \n",
      "4               0.390322  \n",
      "...                  ...  \n",
      "8399            0.962777  \n",
      "8400            0.963625  \n",
      "8401            0.962957  \n",
      "8402            0.960911  \n",
      "8403            0.960304  \n",
      "\n",
      "[22760 rows x 135 columns]\n"
     ]
    }
   ],
   "source": [
    "main_df = pd.DataFrame()\n",
    "\n",
    "for count, cur in enumerate(types):\n",
    "    current_glob = glob.glob(datapath+cur+\"/\"+extension)\n",
    "    df = pd.DataFrame()\n",
    "    li = []\n",
    "\n",
    "    for filename in current_glob:\n",
    "        df = pd.read_csv(filename, index_col=None, header=0)\n",
    "        p = re.compile(\"\\\\\\\\v_(.*)\\.csv\")\n",
    "        filename = p.findall(filename)[0]\n",
    "        df.insert(0, 'example', filename)\n",
    "        df.insert(0, 'exercise', cur)\n",
    "        li.append(df)\n",
    "\n",
    "    frame = pd.concat(li, axis=0, ignore_index=True)\n",
    "    if count == 0:\n",
    "        main_df = pd.DataFrame(columns=frame.columns, data=frame)\n",
    "    else:\n",
    "        main_df = pd.concat([main_df, frame])\n",
    "\n",
    "\n",
    "print(main_df.head(100000))"
   ],
   "metadata": {
    "collapsed": false,
    "pycharm": {
     "name": "#%%\n"
    }
   }
  },
  {
   "cell_type": "code",
   "execution_count": 39,
   "outputs": [
    {
     "name": "stdout",
     "output_type": "stream",
     "text": [
      "267\n"
     ]
    },
    {
     "data": {
      "text/plain": "{'whiskers': [<matplotlib.lines.Line2D at 0x1b370889788>,\n  <matplotlib.lines.Line2D at 0x1b370889d08>],\n 'caps': [<matplotlib.lines.Line2D at 0x1b370889f08>,\n  <matplotlib.lines.Line2D at 0x1b370889688>],\n 'boxes': [<matplotlib.lines.Line2D at 0x1b370889188>],\n 'medians': [<matplotlib.lines.Line2D at 0x1b37088e908>],\n 'fliers': [<matplotlib.lines.Line2D at 0x1b37088edc8>],\n 'means': []}"
     },
     "execution_count": 39,
     "metadata": {},
     "output_type": "execute_result"
    },
    {
     "data": {
      "text/plain": "<Figure size 432x288 with 1 Axes>",
      "image/png": "[encoded data removed]"
     },
     "metadata": {
      "needs_background": "light"
     },
     "output_type": "display_data"
    }
   ],
   "source": [
    "max_frames = main_df.frame.max() + 1\n",
    "print(max_frames)\n",
    "plt.boxplot(main_df.frame)"
   ],
   "metadata": {
    "collapsed": false,
    "pycharm": {
     "name": "#%%\n"
    }
   }
  },
  {
   "cell_type": "code",
   "execution_count": 27,
   "outputs": [
    {
     "name": "stdout",
     "output_type": "stream",
     "text": [
      "214\n",
      "                          BodyWeightSquats  PushUps\n",
      "example                                            \n",
      "BodyWeightSquats_g01_c01                 1        0\n",
      "BodyWeightSquats_g01_c02                 1        0\n",
      "BodyWeightSquats_g01_c03                 1        0\n",
      "BodyWeightSquats_g01_c04                 1        0\n",
      "BodyWeightSquats_g02_c01                 1        0\n",
      "...                                    ...      ...\n",
      "PushUps_g24_c04                          0        1\n",
      "PushUps_g25_c01                          0        1\n",
      "PushUps_g25_c02                          0        1\n",
      "PushUps_g25_c03                          0        1\n",
      "PushUps_g25_c04                          0        1\n",
      "\n",
      "[214 rows x 2 columns]\n"
     ]
    }
   ],
   "source": [
    "print(len(pd.unique(main_df.example)))\n",
    "#print(main_df.head())\n",
    "yhat = main_df.groupby(by=\"example\").exercise.max()\n",
    "\n",
    "yhat = pd.get_dummies(yhat)\n",
    "print(yhat)"
   ],
   "metadata": {
    "collapsed": false,
    "pycharm": {
     "name": "#%%\n"
    }
   }
  },
  {
   "cell_type": "code",
   "execution_count": 55,
   "outputs": [
    {
     "name": "stdout",
     "output_type": "stream",
     "text": [
      "(214, 267, 132)\n"
     ]
    }
   ],
   "source": [
    "video_frames = []\n",
    "\n",
    "for video in main_df.groupby(by=\"example\"):\n",
    "    current = video[1]\n",
    "    current = current.drop(columns=[\"exercise\",\"frame\",\"example\"])\n",
    "    current = current.to_numpy()\n",
    "    #print(current.shape)\n",
    "    #print(type(current))\n",
    "    padded = np.ones((max_frames, 132))\n",
    "    padded *= -2\n",
    "    padded[0:current.shape[0],:] = current\n",
    "    video_frames.append(padded)\n",
    "\n",
    "x = np.stack(video_frames, axis=0)\n",
    "print(x.shape)\n",
    "#214 is the video count\n",
    "#267 is max length of video\n",
    "#132 is the number of features per frame"
   ],
   "metadata": {
    "collapsed": false,
    "pycharm": {
     "name": "#%%\n"
    }
   }
  },
  {
   "cell_type": "code",
   "execution_count": 61,
   "outputs": [
    {
     "name": "stdout",
     "output_type": "stream",
     "text": [
      "7/7 [==============================] - 3s 132ms/step - loss: nan\n",
      "Model: \"sequential_3\"\n",
      "_________________________________________________________________\n",
      " Layer (type)                Output Shape              Param #   \n",
      "=================================================================\n",
      " lstm_3 (LSTM)               (None, 128)               133632    \n",
      "                                                                 \n",
      " dense_3 (Dense)             (None, 2)                 258       \n",
      "                                                                 \n",
      "=================================================================\n",
      "Total params: 133,890\n",
      "Trainable params: 133,890\n",
      "Non-trainable params: 0\n",
      "_________________________________________________________________\n"
     ]
    }
   ],
   "source": [
    "model = Sequential()\n",
    "model.add(LSTM(128))\n",
    "model.add(Dense(2, activation=\"softmax\"))\n",
    "model.compile(optimizer=\"adam\", loss=\"CategoricalCrossentropy\")\n",
    "\n",
    "\n",
    "model.fit(x, yhat)\n",
    "model.summary()"
   ],
   "metadata": {
    "collapsed": false,
    "pycharm": {
     "name": "#%%\n"
    }
   }
  },
  {
   "cell_type": "code",
   "execution_count": null,
   "outputs": [],
   "source": [],
   "metadata": {
    "collapsed": false,
    "pycharm": {
     "name": "#%%\n"
    }
   }
  }
 ],
 "metadata": {
  "kernelspec": {
   "display_name": "Python 3",
   "language": "python",
   "name": "python3"
  },
  "language_info": {
   "codemirror_mode": {
    "name": "ipython",
    "version": 2
   },
   "file_extension": ".py",
   "mimetype": "text/x-python",
   "name": "python",
   "nbconvert_exporter": "python",
   "pygments_lexer": "ipython2",
   "version": "2.7.6"
  }
 },
 "nbformat": 4,
 "nbformat_minor": 0
}