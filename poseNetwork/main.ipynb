{
 "cells": [
  {
   "cell_type": "code",
   "execution_count": 16,
   "metadata": {
    "collapsed": true
   },
   "outputs": [],
   "source": [
    "import pandas as pd\n",
    "import glob\n",
    "import re\n",
    "datapath = \"./Input/\"\n",
    "types = [\"BodyWeightSquats\", \"PushUps\"]\n",
    "extension = \"*.csv\"\n",
    "\n"
   ]
  },
  {
   "cell_type": "code",
   "execution_count": 45,
   "outputs": [
    {
     "name": "stdout",
     "output_type": "stream",
     "text": [
      "             exercise                   example  frame    NOSE.x    NOSE.y  \\\n",
      "0    BodyWeightSquats  BodyWeightSquats_g01_c01      0  0.468669  0.069361   \n",
      "1    BodyWeightSquats  BodyWeightSquats_g01_c01      1  0.468662  0.069879   \n",
      "2    BodyWeightSquats  BodyWeightSquats_g01_c01      2  0.468611  0.070022   \n",
      "3    BodyWeightSquats  BodyWeightSquats_g01_c01      3  0.468610  0.069943   \n",
      "4    BodyWeightSquats  BodyWeightSquats_g01_c01      4  0.468484  0.069916   \n",
      "..                ...                       ...    ...       ...       ...   \n",
      "995  BodyWeightSquats  BodyWeightSquats_g02_c01     52  0.485500  0.114159   \n",
      "996  BodyWeightSquats  BodyWeightSquats_g02_c01     53  0.487887  0.114337   \n",
      "997  BodyWeightSquats  BodyWeightSquats_g02_c01     54  0.492444  0.114524   \n",
      "998  BodyWeightSquats  BodyWeightSquats_g02_c01     55  0.498318  0.116184   \n",
      "999  BodyWeightSquats  BodyWeightSquats_g02_c01     56  0.502815  0.126060   \n",
      "\n",
      "       NOSE.z    NOSE.v  LEFT_EYE_INNER.x  LEFT_EYE_INNER.y  LEFT_EYE_INNER.z  \\\n",
      "0   -0.105805  0.999897          0.474977          0.054743         -0.130644   \n",
      "1   -0.103847  0.999899          0.475058          0.054792         -0.130019   \n",
      "2   -0.096247  0.999899          0.475086          0.054803         -0.123839   \n",
      "3   -0.096632  0.999902          0.475113          0.054752         -0.125665   \n",
      "4   -0.105230  0.999905          0.475108          0.054758         -0.134481   \n",
      "..        ...       ...               ...               ...               ...   \n",
      "995 -0.412609  0.999941          0.486226          0.094038         -0.381691   \n",
      "996 -0.401306  0.999943          0.489082          0.094204         -0.369354   \n",
      "997 -0.378946  0.999937          0.494135          0.094343         -0.348806   \n",
      "998 -0.370628  0.999924          0.499582          0.097558         -0.339817   \n",
      "999 -0.376423  0.999918          0.502115          0.107476         -0.346103   \n",
      "\n",
      "     ...  RIGHT_HEEL.z  RIGHT_HEEL.v  LEFT_FOOT_INDEX.x  LEFT_FOOT_INDEX.y  \\\n",
      "0    ...      0.270216      0.250623           0.447268           0.833848   \n",
      "1    ...      0.360833      0.272931           0.447434           0.897315   \n",
      "2    ...      0.322626      0.291431           0.445988           0.910515   \n",
      "3    ...      0.367360      0.309039           0.442830           0.910877   \n",
      "4    ...      0.377721      0.325329           0.438366           0.916788   \n",
      "..   ...           ...           ...                ...                ...   \n",
      "995  ...      0.058047      0.934667           0.566311           0.840522   \n",
      "996  ...      0.048299      0.936075           0.568415           0.840505   \n",
      "997  ...      0.002495      0.936447           0.570296           0.840163   \n",
      "998  ...     -0.024706      0.935816           0.573451           0.840946   \n",
      "999  ...     -0.041292      0.935732           0.575261           0.841105   \n",
      "\n",
      "     LEFT_FOOT_INDEX.z  LEFT_FOOT_INDEX.v  RIGHT_FOOT_INDEX.x  \\\n",
      "0            -0.161711           0.873919            0.456220   \n",
      "1            -0.232938           0.881480            0.457442   \n",
      "2            -0.227214           0.888365            0.455793   \n",
      "3            -0.204548           0.895536            0.454846   \n",
      "4            -0.206196           0.902520            0.453751   \n",
      "..                 ...                ...                 ...   \n",
      "995           0.657668           0.970498            0.419090   \n",
      "996           0.683428           0.972060            0.421555   \n",
      "997           0.647480           0.972983            0.422196   \n",
      "998           0.597822           0.972946            0.423081   \n",
      "999           0.551618           0.973405            0.425213   \n",
      "\n",
      "     RIGHT_FOOT_INDEX.y  RIGHT_FOOT_INDEX.z  RIGHT_FOOT_INDEX.v  \n",
      "0              0.829370            0.183813            0.286861  \n",
      "1              0.836634            0.284860            0.314432  \n",
      "2              0.850108            0.240648            0.340292  \n",
      "3              0.849319            0.292866            0.365791  \n",
      "4              0.851982            0.302120            0.390322  \n",
      "..                  ...                 ...                 ...  \n",
      "995            0.940376           -0.141777            0.991085  \n",
      "996            0.940399           -0.143342            0.991372  \n",
      "997            0.940056           -0.198826            0.991580  \n",
      "998            0.940042           -0.228580            0.991626  \n",
      "999            0.940037           -0.240780            0.991729  \n",
      "\n",
      "[1000 rows x 135 columns]\n"
     ]
    }
   ],
   "source": [
    "main_df = pd.DataFrame()\n",
    "\n",
    "for count, cur in enumerate(types):\n",
    "    current_glob = glob.glob(datapath+cur+\"/\"+extension)\n",
    "    df = pd.DataFrame()\n",
    "    li = []\n",
    "\n",
    "    for filename in current_glob:\n",
    "        df = pd.read_csv(filename, index_col=None, header=0)\n",
    "        p = re.compile(\"\\\\\\\\v_(.*)\\.csv\")\n",
    "        filename = p.findall(filename)[0]\n",
    "        df.insert(0, 'example', filename)\n",
    "        df.insert(0, 'exercise', cur)\n",
    "        li.append(df)\n",
    "\n",
    "    frame = pd.concat(li, axis=0, ignore_index=True)\n",
    "    if count == 0:\n",
    "        main_df = pd.DataFrame(columns=frame.columns, data=frame)\n",
    "    else:\n",
    "        main_df = pd.concat([main_df, frame])\n",
    "\n",
    "print(main_df.head(1000))\n"
   ],
   "metadata": {
    "collapsed": false,
    "pycharm": {
     "name": "#%%\n"
    }
   }
  }
 ],
 "metadata": {
  "kernelspec": {
   "display_name": "Python 3",
   "language": "python",
   "name": "python3"
  },
  "language_info": {
   "codemirror_mode": {
    "name": "ipython",
    "version": 2
   },
   "file_extension": ".py",
   "mimetype": "text/x-python",
   "name": "python",
   "nbconvert_exporter": "python",
   "pygments_lexer": "ipython2",
   "version": "2.7.6"
  }
 },
 "nbformat": 4,
 "nbformat_minor": 0
}