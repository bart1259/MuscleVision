{
 "cells": [
  {
   "cell_type": "code",
   "execution_count": 16,
   "metadata": {
    "collapsed": true
   },
   "outputs": [],
   "source": [
    "import pandas as pd\n",
    "import glob\n",
    "import re\n",
    "datapath = \"./Input/\"\n",
    "types = [\"BodyWeightSquats\", \"PushUps\"]\n",
    "extension = \"*.csv\"\n",
    "\n"
   ]
  },
  {
   "cell_type": "code",
   "execution_count": 27,
   "outputs": [
    {
     "name": "stdout",
     "output_type": "stream",
     "text": [
      "                    example  frame    NOSE.x    NOSE.y    NOSE.z    NOSE.v  \\\n",
      "0  BodyWeightSquats_g01_c01      0  0.468669  0.069361 -0.105805  0.999897   \n",
      "1  BodyWeightSquats_g01_c01      1  0.468662  0.069879 -0.103847  0.999899   \n",
      "2  BodyWeightSquats_g01_c01      2  0.468611  0.070022 -0.096247  0.999899   \n",
      "3  BodyWeightSquats_g01_c01      3  0.468610  0.069943 -0.096632  0.999902   \n",
      "4  BodyWeightSquats_g01_c01      4  0.468484  0.069916 -0.105230  0.999905   \n",
      "\n",
      "   LEFT_EYE_INNER.x  LEFT_EYE_INNER.y  LEFT_EYE_INNER.z  LEFT_EYE_INNER.v  \\\n",
      "0          0.474977          0.054743         -0.130644          0.999886   \n",
      "1          0.475058          0.054792         -0.130019          0.999887   \n",
      "2          0.475086          0.054803         -0.123839          0.999887   \n",
      "3          0.475113          0.054752         -0.125665          0.999889   \n",
      "4          0.475108          0.054758         -0.134481          0.999892   \n",
      "\n",
      "   ...  RIGHT_HEEL.z  RIGHT_HEEL.v  LEFT_FOOT_INDEX.x  LEFT_FOOT_INDEX.y  \\\n",
      "0  ...      0.270216      0.250623           0.447268           0.833848   \n",
      "1  ...      0.360833      0.272931           0.447434           0.897315   \n",
      "2  ...      0.322626      0.291431           0.445988           0.910515   \n",
      "3  ...      0.367360      0.309039           0.442830           0.910877   \n",
      "4  ...      0.377721      0.325329           0.438366           0.916788   \n",
      "\n",
      "   LEFT_FOOT_INDEX.z  LEFT_FOOT_INDEX.v  RIGHT_FOOT_INDEX.x  \\\n",
      "0          -0.161711           0.873919            0.456220   \n",
      "1          -0.232938           0.881480            0.457442   \n",
      "2          -0.227214           0.888365            0.455793   \n",
      "3          -0.204548           0.895536            0.454846   \n",
      "4          -0.206196           0.902520            0.453751   \n",
      "\n",
      "   RIGHT_FOOT_INDEX.y  RIGHT_FOOT_INDEX.z  RIGHT_FOOT_INDEX.v  \n",
      "0            0.829370            0.183813            0.286861  \n",
      "1            0.836634            0.284860            0.314432  \n",
      "2            0.850108            0.240648            0.340292  \n",
      "3            0.849319            0.292866            0.365791  \n",
      "4            0.851982            0.302120            0.390322  \n",
      "\n",
      "[5 rows x 134 columns]\n",
      "           example  frame    NOSE.x    NOSE.y    NOSE.z    NOSE.v  \\\n",
      "0  PushUps_g01_c01      0  0.819621  0.664959 -0.024079  0.999757   \n",
      "1  PushUps_g01_c01      1  0.815629  0.665690 -0.025928  0.999767   \n",
      "2  PushUps_g01_c01      2  0.823398  0.693450 -0.023670  0.999779   \n",
      "3  PushUps_g01_c01      3  0.825518  0.699573 -0.024360  0.999783   \n",
      "4  PushUps_g01_c01      4  0.828534  0.735662 -0.010011  0.999799   \n",
      "\n",
      "   LEFT_EYE_INNER.x  LEFT_EYE_INNER.y  LEFT_EYE_INNER.z  LEFT_EYE_INNER.v  \\\n",
      "0          0.830009          0.650009         -0.006236          0.999567   \n",
      "1          0.827510          0.650521         -0.008308          0.999578   \n",
      "2          0.832885          0.677222         -0.005976          0.999601   \n",
      "3          0.834947          0.683112         -0.006507          0.999606   \n",
      "4          0.839155          0.718225          0.007597          0.999636   \n",
      "\n",
      "   ...  RIGHT_HEEL.z  RIGHT_HEEL.v  LEFT_FOOT_INDEX.x  LEFT_FOOT_INDEX.y  \\\n",
      "0  ...     -0.055088      0.991639           0.144891           0.810605   \n",
      "1  ...      0.003038      0.991896           0.150657           0.810842   \n",
      "2  ...     -0.014525      0.991071           0.150278           0.813941   \n",
      "3  ...     -0.025226      0.990296           0.150625           0.814765   \n",
      "4  ...     -0.097626      0.989739           0.150019           0.815049   \n",
      "\n",
      "   LEFT_FOOT_INDEX.z  LEFT_FOOT_INDEX.v  RIGHT_FOOT_INDEX.x  \\\n",
      "0           0.205284           0.766388            0.143457   \n",
      "1           0.352491           0.773739            0.143924   \n",
      "2           0.289480           0.765302            0.143504   \n",
      "3           0.297050           0.758668            0.143598   \n",
      "4           0.236529           0.752235            0.142721   \n",
      "\n",
      "   RIGHT_FOOT_INDEX.y  RIGHT_FOOT_INDEX.z  RIGHT_FOOT_INDEX.v  \n",
      "0            0.841449           -0.184500            0.985141  \n",
      "1            0.841690           -0.117744            0.985856  \n",
      "2            0.845452           -0.122275            0.984616  \n",
      "3            0.846488           -0.140679            0.983430  \n",
      "4            0.847989           -0.210014            0.982946  \n",
      "\n",
      "[5 rows x 134 columns]\n"
     ]
    }
   ],
   "source": [
    "for cur in types:\n",
    "    current_glob = glob.glob(datapath+cur+\"/\"+extension)\n",
    "    df = pd.DataFrame()\n",
    "    li = []\n",
    "\n",
    "    for filename in current_glob:\n",
    "        df = pd.read_csv(filename, index_col=None, header=0)\n",
    "        p = re.compile(\"\\\\\\\\v_(.*)\\.csv\")\n",
    "        filename = p.findall(filename)[0]\n",
    "        df.insert(0, 'example', filename)\n",
    "\n",
    "        li.append(df)\n",
    "\n",
    "    frame = pd.concat(li, axis=0, ignore_index=True)\n",
    "    print(frame.head())\n"
   ],
   "metadata": {
    "collapsed": false,
    "pycharm": {
     "name": "#%%\n"
    }
   }
  }
 ],
 "metadata": {
  "kernelspec": {
   "display_name": "Python 3",
   "language": "python",
   "name": "python3"
  },
  "language_info": {
   "codemirror_mode": {
    "name": "ipython",
    "version": 2
   },
   "file_extension": ".py",
   "mimetype": "text/x-python",
   "name": "python",
   "nbconvert_exporter": "python",
   "pygments_lexer": "ipython2",
   "version": "2.7.6"
  }
 },
 "nbformat": 4,
 "nbformat_minor": 0
}