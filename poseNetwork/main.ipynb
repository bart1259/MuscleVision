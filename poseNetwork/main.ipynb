{
 "cells": [
  {
   "cell_type": "code",
   "execution_count": 1,
   "metadata": {
    "collapsed": true
   },
   "outputs": [],
   "source": [
    "import pandas as pd\n",
    "import glob\n",
    "datapath = \"./Input/\"\n",
    "types = [\"BodyWeightSquats\", \"PushUps\"]\n",
    "extension = \"*.csv\"\n",
    "\n"
   ]
  },
  {
   "cell_type": "code",
   "execution_count": 14,
   "outputs": [
    {
     "name": "stdout",
     "output_type": "stream",
     "text": [
      "                                             example  frame    NOSE.x  \\\n",
      "0  ./Input/BodyWeightSquats\\v_BodyWeightSquats_g0...      0  0.468669   \n",
      "1  ./Input/BodyWeightSquats\\v_BodyWeightSquats_g0...      1  0.468662   \n",
      "2  ./Input/BodyWeightSquats\\v_BodyWeightSquats_g0...      2  0.468611   \n",
      "3  ./Input/BodyWeightSquats\\v_BodyWeightSquats_g0...      3  0.468610   \n",
      "4  ./Input/BodyWeightSquats\\v_BodyWeightSquats_g0...      4  0.468484   \n",
      "\n",
      "     NOSE.y    NOSE.z    NOSE.v  LEFT_EYE_INNER.x  LEFT_EYE_INNER.y  \\\n",
      "0  0.069361 -0.105805  0.999897          0.474977          0.054743   \n",
      "1  0.069879 -0.103847  0.999899          0.475058          0.054792   \n",
      "2  0.070022 -0.096247  0.999899          0.475086          0.054803   \n",
      "3  0.069943 -0.096632  0.999902          0.475113          0.054752   \n",
      "4  0.069916 -0.105230  0.999905          0.475108          0.054758   \n",
      "\n",
      "   LEFT_EYE_INNER.z  LEFT_EYE_INNER.v  ...  RIGHT_HEEL.z  RIGHT_HEEL.v  \\\n",
      "0         -0.130644          0.999886  ...      0.270216      0.250623   \n",
      "1         -0.130019          0.999887  ...      0.360833      0.272931   \n",
      "2         -0.123839          0.999887  ...      0.322626      0.291431   \n",
      "3         -0.125665          0.999889  ...      0.367360      0.309039   \n",
      "4         -0.134481          0.999892  ...      0.377721      0.325329   \n",
      "\n",
      "   LEFT_FOOT_INDEX.x  LEFT_FOOT_INDEX.y  LEFT_FOOT_INDEX.z  LEFT_FOOT_INDEX.v  \\\n",
      "0           0.447268           0.833848          -0.161711           0.873919   \n",
      "1           0.447434           0.897315          -0.232938           0.881480   \n",
      "2           0.445988           0.910515          -0.227214           0.888365   \n",
      "3           0.442830           0.910877          -0.204548           0.895536   \n",
      "4           0.438366           0.916788          -0.206196           0.902520   \n",
      "\n",
      "   RIGHT_FOOT_INDEX.x  RIGHT_FOOT_INDEX.y  RIGHT_FOOT_INDEX.z  \\\n",
      "0            0.456220            0.829370            0.183813   \n",
      "1            0.457442            0.836634            0.284860   \n",
      "2            0.455793            0.850108            0.240648   \n",
      "3            0.454846            0.849319            0.292866   \n",
      "4            0.453751            0.851982            0.302120   \n",
      "\n",
      "   RIGHT_FOOT_INDEX.v  \n",
      "0            0.286861  \n",
      "1            0.314432  \n",
      "2            0.340292  \n",
      "3            0.365791  \n",
      "4            0.390322  \n",
      "\n",
      "[5 rows x 134 columns]\n",
      "                                 example  frame    NOSE.x    NOSE.y    NOSE.z  \\\n",
      "0  ./Input/PushUps\\v_PushUps_g01_c01.csv      0  0.819621  0.664959 -0.024079   \n",
      "1  ./Input/PushUps\\v_PushUps_g01_c01.csv      1  0.815629  0.665690 -0.025928   \n",
      "2  ./Input/PushUps\\v_PushUps_g01_c01.csv      2  0.823398  0.693450 -0.023670   \n",
      "3  ./Input/PushUps\\v_PushUps_g01_c01.csv      3  0.825518  0.699573 -0.024360   \n",
      "4  ./Input/PushUps\\v_PushUps_g01_c01.csv      4  0.828534  0.735662 -0.010011   \n",
      "\n",
      "     NOSE.v  LEFT_EYE_INNER.x  LEFT_EYE_INNER.y  LEFT_EYE_INNER.z  \\\n",
      "0  0.999757          0.830009          0.650009         -0.006236   \n",
      "1  0.999767          0.827510          0.650521         -0.008308   \n",
      "2  0.999779          0.832885          0.677222         -0.005976   \n",
      "3  0.999783          0.834947          0.683112         -0.006507   \n",
      "4  0.999799          0.839155          0.718225          0.007597   \n",
      "\n",
      "   LEFT_EYE_INNER.v  ...  RIGHT_HEEL.z  RIGHT_HEEL.v  LEFT_FOOT_INDEX.x  \\\n",
      "0          0.999567  ...     -0.055088      0.991639           0.144891   \n",
      "1          0.999578  ...      0.003038      0.991896           0.150657   \n",
      "2          0.999601  ...     -0.014525      0.991071           0.150278   \n",
      "3          0.999606  ...     -0.025226      0.990296           0.150625   \n",
      "4          0.999636  ...     -0.097626      0.989739           0.150019   \n",
      "\n",
      "   LEFT_FOOT_INDEX.y  LEFT_FOOT_INDEX.z  LEFT_FOOT_INDEX.v  \\\n",
      "0           0.810605           0.205284           0.766388   \n",
      "1           0.810842           0.352491           0.773739   \n",
      "2           0.813941           0.289480           0.765302   \n",
      "3           0.814765           0.297050           0.758668   \n",
      "4           0.815049           0.236529           0.752235   \n",
      "\n",
      "   RIGHT_FOOT_INDEX.x  RIGHT_FOOT_INDEX.y  RIGHT_FOOT_INDEX.z  \\\n",
      "0            0.143457            0.841449           -0.184500   \n",
      "1            0.143924            0.841690           -0.117744   \n",
      "2            0.143504            0.845452           -0.122275   \n",
      "3            0.143598            0.846488           -0.140679   \n",
      "4            0.142721            0.847989           -0.210014   \n",
      "\n",
      "   RIGHT_FOOT_INDEX.v  \n",
      "0            0.985141  \n",
      "1            0.985856  \n",
      "2            0.984616  \n",
      "3            0.983430  \n",
      "4            0.982946  \n",
      "\n",
      "[5 rows x 134 columns]\n"
     ]
    }
   ],
   "source": [
    "for cur in types:\n",
    "    current_glob = glob.glob(datapath+cur+\"/\"+extension)\n",
    "    df = pd.DataFrame()\n",
    "    li = []\n",
    "\n",
    "    for filename in current_glob:\n",
    "        df = pd.read_csv(filename, index_col=None, header=0)\n",
    "        df.insert(0, 'example', filename)\n",
    "        li.append(df)\n",
    "\n",
    "    frame = pd.concat(li, axis=0, ignore_index=True)\n",
    "    print(frame.head())\n"
   ],
   "metadata": {
    "collapsed": false,
    "pycharm": {
     "name": "#%%\n"
    }
   }
  }
 ],
 "metadata": {
  "kernelspec": {
   "display_name": "Python 3",
   "language": "python",
   "name": "python3"
  },
  "language_info": {
   "codemirror_mode": {
    "name": "ipython",
    "version": 2
   },
   "file_extension": ".py",
   "mimetype": "text/x-python",
   "name": "python",
   "nbconvert_exporter": "python",
   "pygments_lexer": "ipython2",
   "version": "2.7.6"
  }
 },
 "nbformat": 4,
 "nbformat_minor": 0
}