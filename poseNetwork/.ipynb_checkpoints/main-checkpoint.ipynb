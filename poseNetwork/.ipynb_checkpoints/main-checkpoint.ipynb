{
 "cells": [
  {
   "cell_type": "markdown",
   "metadata": {},
   "source": [
    "### Imports"
   ]
  },
  {
   "cell_type": "code",
   "execution_count": 20,
   "metadata": {},
   "outputs": [],
   "source": [
    "import pandas as pd\n",
    "import glob\n",
    "import re\n",
    "import matplotlib.pyplot as plt\n",
    "import numpy as np\n",
    "from keras.layers import LSTM, GlobalAveragePooling1D, Dense, Dropout, Masking, Input, BatchNormalization, Activation\n",
    "from keras.models import Sequential\n",
    "from keras.activations import sigmoid, relu\n",
    "from keras.optimizers import Adam, RMSprop\n",
    "#from keras.layers.advanced_activations import LeakyReLU\n",
    "from sklearn.model_selection import train_test_split"
   ]
  },
  {
   "cell_type": "markdown",
   "metadata": {},
   "source": [
    "### Data Set Location"
   ]
  },
  {
   "cell_type": "code",
   "execution_count": 21,
   "metadata": {},
   "outputs": [],
   "source": [
    "datapath = \"./Input/\"\n",
    "types = [\"Lunges\", \"BodyWeightSquats\", \"PushUps\"] # only classifying between these\n",
    "extension = \"*.csv\""
   ]
  },
  {
   "cell_type": "markdown",
   "metadata": {},
   "source": [
    "### Generate DataFrame"
   ]
  },
  {
   "cell_type": "code",
   "execution_count": 22,
   "metadata": {
    "pycharm": {
     "name": "#%%\n"
    },
    "scrolled": false
   },
   "outputs": [
    {
     "name": "stdout",
     "output_type": "stream",
     "text": [
      "     exercise          example  frame    NOSE.x    NOSE.y    NOSE.z    NOSE.v  \\\n",
      "0      Lunges   Lunges_g01_c01      0  0.628940  0.190160 -1.083234  1.000000   \n",
      "1      Lunges   Lunges_g01_c01      1  0.634642  0.184615 -0.862562  1.000000   \n",
      "2      Lunges   Lunges_g01_c01      2  0.635383  0.177477 -0.976451  1.000000   \n",
      "3      Lunges   Lunges_g01_c01      3  0.635381  0.176862 -0.991717  1.000000   \n",
      "4      Lunges   Lunges_g01_c01      4  0.632972  0.182430 -0.895682  1.000000   \n",
      "...       ...              ...    ...       ...       ...       ...       ...   \n",
      "8250  PushUps  PushUps_g25_c04     96  0.641914  0.718347 -0.041630  0.998482   \n",
      "8251  PushUps  PushUps_g25_c04     97  0.643355  0.712380 -0.097662  0.998587   \n",
      "8252  PushUps  PushUps_g25_c04     98  0.643144  0.702161 -0.131786  0.998672   \n",
      "8253  PushUps  PushUps_g25_c04     99  0.636427  0.693687 -0.098183  0.998680   \n",
      "8254  PushUps  PushUps_g25_c04    100  0.638258  0.684618 -0.092309  0.998744   \n",
      "\n",
      "      LEFT_EYE_INNER.x  LEFT_EYE_INNER.y  LEFT_EYE_INNER.z  ...  RIGHT_HEEL.z  \\\n",
      "0             0.637373          0.149968         -1.077586  ...      0.803369   \n",
      "1             0.639514          0.145265         -0.857735  ...      0.472490   \n",
      "2             0.641203          0.139931         -0.971706  ...      0.525471   \n",
      "3             0.641786          0.137734         -0.989160  ...      0.702304   \n",
      "4             0.640021          0.141749         -0.900764  ...      0.569629   \n",
      "...                ...               ...               ...  ...           ...   \n",
      "8250          0.654601          0.712731         -0.040193  ...      0.050421   \n",
      "8251          0.655464          0.706468         -0.090782  ...      0.067876   \n",
      "8252          0.654846          0.695205         -0.120915  ...      0.061051   \n",
      "8253          0.648859          0.686798         -0.088198  ...      0.069688   \n",
      "8254          0.649887          0.676210         -0.083211  ...      0.152379   \n",
      "\n",
      "      RIGHT_HEEL.v  LEFT_FOOT_INDEX.x  LEFT_FOOT_INDEX.y  LEFT_FOOT_INDEX.z  \\\n",
      "0         0.451993           0.666825           0.935780           0.647691   \n",
      "1         0.745581           0.675913           0.946760           0.564102   \n",
      "2         0.633097           0.679753           0.947393           0.588786   \n",
      "3         0.729385           0.676028           0.948587           0.682787   \n",
      "4         0.633890           0.677371           0.954212           0.636038   \n",
      "...            ...                ...                ...                ...   \n",
      "8250      0.958218           0.153113           0.723934           0.297861   \n",
      "8251      0.958957           0.153923           0.724947           0.319272   \n",
      "8252      0.958011           0.142008           0.713899           0.308427   \n",
      "8253      0.956502           0.140524           0.713107           0.302956   \n",
      "8254      0.957017           0.141569           0.715851           0.377960   \n",
      "\n",
      "      LEFT_FOOT_INDEX.v  RIGHT_FOOT_INDEX.x  RIGHT_FOOT_INDEX.y  \\\n",
      "0              0.837018            0.508485            0.906145   \n",
      "1              0.928626            0.513611            0.923711   \n",
      "2              0.758095            0.524267            0.923373   \n",
      "3              0.818430            0.527595            0.923627   \n",
      "4              0.809525            0.523841            0.925313   \n",
      "...                 ...                 ...                 ...   \n",
      "8250           0.662029            0.116872            0.727545   \n",
      "8251           0.669273            0.115900            0.726388   \n",
      "8252           0.669626            0.114429            0.725023   \n",
      "8253           0.663653            0.114430            0.723275   \n",
      "8254           0.666592            0.118812            0.724260   \n",
      "\n",
      "      RIGHT_FOOT_INDEX.z  RIGHT_FOOT_INDEX.v  \n",
      "0               0.640605            0.781718  \n",
      "1               0.327982            0.919039  \n",
      "2               0.355356            0.797511  \n",
      "3               0.550238            0.833113  \n",
      "4               0.457674            0.760873  \n",
      "...                  ...                 ...  \n",
      "8250           -0.008316            0.962777  \n",
      "8251            0.002076            0.963625  \n",
      "8252           -0.009581            0.962957  \n",
      "8253            0.001679            0.960911  \n",
      "8254            0.085674            0.960304  \n",
      "\n",
      "[51531 rows x 135 columns]\n"
     ]
    }
   ],
   "source": [
    "main_df = pd.DataFrame()\n",
    "\n",
    "for count, cur in enumerate(types):\n",
    "    current_glob = glob.glob(datapath+cur+\"/\"+extension)\n",
    "    df = pd.DataFrame()\n",
    "    li = []\n",
    "\n",
    "    for filename in current_glob:\n",
    "        df = pd.read_csv(filename, index_col=None, header=0)\n",
    "        p = re.compile(\"v_(.*)\\.csv\")\n",
    "        filename = p.findall(filename)[0]\n",
    "        df.insert(0, 'example', filename)\n",
    "        df.insert(0, 'exercise', cur)\n",
    "        li.append(df)\n",
    "\n",
    "    frame = pd.concat(li, axis=0, ignore_index=True)\n",
    "    if count == 0:\n",
    "        main_df = pd.DataFrame(columns=frame.columns, data=frame)\n",
    "    else:\n",
    "        main_df = pd.concat([main_df, frame])\n",
    "\n",
    "\n",
    "print(main_df.head(100000))"
   ]
  },
  {
   "cell_type": "markdown",
   "metadata": {},
   "source": [
    "### Determine Maximum Number of Frames"
   ]
  },
  {
   "cell_type": "code",
   "execution_count": 23,
   "metadata": {
    "pycharm": {
     "name": "#%%\n"
    }
   },
   "outputs": [
    {
     "name": "stdout",
     "output_type": "stream",
     "text": [
      "271\n"
     ]
    },
    {
     "data": {
      "image/png": "[encoded data removed]",
      "text/plain": [
       "<Figure size 432x288 with 1 Axes>"
      ]
     },
     "metadata": {
      "needs_background": "light"
     },
     "output_type": "display_data"
    }
   ],
   "source": [
    "max_frames = main_df.frame.max() + 1\n",
    "print(max_frames)\n",
    "plt.boxplot(main_df.frame)\n",
    "plt.show()"
   ]
  },
  {
   "cell_type": "markdown",
   "metadata": {},
   "source": [
    "### Calculate $\\hat{y}$"
   ]
  },
  {
   "cell_type": "code",
   "execution_count": 24,
   "metadata": {
    "pycharm": {
     "name": "#%%\n"
    }
   },
   "outputs": [
    {
     "name": "stdout",
     "output_type": "stream",
     "text": [
      "339\n",
      "                          BodyWeightSquats  Lunges  PushUps\n",
      "example                                                    \n",
      "BodyWeightSquats_g01_c01                 1       0        0\n",
      "BodyWeightSquats_g01_c02                 1       0        0\n",
      "BodyWeightSquats_g01_c03                 1       0        0\n",
      "BodyWeightSquats_g01_c04                 1       0        0\n",
      "BodyWeightSquats_g02_c01                 1       0        0\n",
      "...                                    ...     ...      ...\n",
      "PushUps_g24_c04                          0       0        1\n",
      "PushUps_g25_c01                          0       0        1\n",
      "PushUps_g25_c02                          0       0        1\n",
      "PushUps_g25_c03                          0       0        1\n",
      "PushUps_g25_c04                          0       0        1\n",
      "\n",
      "[339 rows x 3 columns]\n"
     ]
    }
   ],
   "source": [
    "print(len(pd.unique(main_df.example)))\n",
    "#print(main_df.head())\n",
    "yhat = main_df.groupby(by=\"example\").exercise.max()\n",
    "\n",
    "yhat = pd.get_dummies(yhat)\n",
    "print(yhat)"
   ]
  },
  {
   "cell_type": "markdown",
   "metadata": {},
   "source": [
    "### Apply Padding to Data Set"
   ]
  },
  {
   "cell_type": "code",
   "execution_count": 80,
   "metadata": {
    "pycharm": {
     "name": "#%%\n"
    }
   },
   "outputs": [],
   "source": [
    "video_frames = []\n",
    "\n",
    "NUM_FEATURES = 132\n",
    "\n",
    "for video in main_df.groupby(by=\"example\"):\n",
    "    current = video[1]\n",
    "    current = current.drop(columns=[\"exercise\",\"frame\",\"example\"])\n",
    "    current = current.to_numpy()\n",
    "    #print(current.shape)\n",
    "    #print(type(current))\n",
    "    np.nan_to_num(current, copy=False, nan=-2.)\n",
    "    padded = np.ones((max_frames, NUM_FEATURES))\n",
    "    padded *= -2. # Number not between -1 and 1\n",
    "    padded[0:current.shape[0],:] = current\n",
    "    video_frames.append(padded)"
   ]
  },
  {
   "cell_type": "markdown",
   "metadata": {},
   "source": [
    "### Generate x"
   ]
  },
  {
   "cell_type": "code",
   "execution_count": 81,
   "metadata": {},
   "outputs": [
    {
     "name": "stdout",
     "output_type": "stream",
     "text": [
      "(339, 271, 132)\n",
      "(339, 3)\n"
     ]
    }
   ],
   "source": [
    "x = np.stack(video_frames, axis=0)\n",
    "print(x.shape)\n",
    "print(yhat.shape)\n",
    "#214 => 341 is the video count\n",
    "#267 => 271 is max length of a video\n",
    "#132 is the number of features per frame"
   ]
  },
  {
   "cell_type": "code",
   "execution_count": 82,
   "metadata": {},
   "outputs": [
    {
     "data": {
      "text/plain": [
       "array([[ 0.46866941,  0.06936088, -0.10580542, ...,  0.8293696 ,\n",
       "         0.18381335,  0.28686142],\n",
       "       [ 0.46866211,  0.06987888, -0.10384705, ...,  0.83663428,\n",
       "         0.28486028,  0.31443235],\n",
       "       [ 0.46861085,  0.07002214, -0.09624683, ...,  0.85010797,\n",
       "         0.24064758,  0.34029156],\n",
       "       ...,\n",
       "       [-2.        , -2.        , -2.        , ..., -2.        ,\n",
       "        -2.        , -2.        ],\n",
       "       [-2.        , -2.        , -2.        , ..., -2.        ,\n",
       "        -2.        , -2.        ],\n",
       "       [-2.        , -2.        , -2.        , ..., -2.        ,\n",
       "        -2.        , -2.        ]])"
      ]
     },
     "execution_count": 82,
     "metadata": {},
     "output_type": "execute_result"
    }
   ],
   "source": [
    "x[0]\n",
    "#What are the features, keypoint, x, y ,z so nose, shoulder, hand, elbow, etc.\n",
    "#These are points in 3d space?yes, localized\n",
    "#and you have params set up for all the different parts of the body to track?\n",
    "#How much data do you have? Gonna need a fuckin lot of it to train this, yeah , i was thinking we need more data\n",
    "#Your network is tiny as well for this. For our very simple lstm it's double the size of yours and also deeper\n",
    "\n",
    "#some of these numbers are the same, you can one hot encode them"
   ]
  },
  {
   "cell_type": "markdown",
   "metadata": {},
   "source": [
    "### Splitting the Data Set"
   ]
  },
  {
   "cell_type": "code",
   "execution_count": 85,
   "metadata": {},
   "outputs": [
    {
     "name": "stdout",
     "output_type": "stream",
     "text": [
      "(271, 271, 132)\n",
      "(68, 271, 132)\n"
     ]
    }
   ],
   "source": [
    "x_train, x_test, y_train, y_test = train_test_split(x, yhat, test_size=0.2)\n",
    "print(x_train.shape)\n",
    "print(x_test.shape)"
   ]
  },
  {
   "cell_type": "markdown",
   "metadata": {},
   "source": [
    "### Compiling the Model\n",
    "## TODO: Fix Gradient Explosion"
   ]
  },
  {
   "cell_type": "code",
   "execution_count": 91,
   "metadata": {
    "pycharm": {
     "name": "#%%\n"
    }
   },
   "outputs": [
    {
     "name": "stdout",
     "output_type": "stream",
     "text": [
      "11/11 [==============================] - 4s 375ms/step - loss: 3.3653 - accuracy: 0.3274\n",
      "Model: \"sequential_20\"\n",
      "_________________________________________________________________\n",
      "Layer (type)                 Output Shape              Param #   \n",
      "=================================================================\n",
      "masking_20 (Masking)         multiple                  0         \n",
      "_________________________________________________________________\n",
      "lstm_40 (LSTM)               multiple                  50432     \n",
      "_________________________________________________________________\n",
      "dense_60 (Dense)             multiple                  195       \n",
      "=================================================================\n",
      "Total params: 50,627\n",
      "Trainable params: 50,627\n",
      "Non-trainable params: 0\n",
      "_________________________________________________________________\n"
     ]
    }
   ],
   "source": [
    "#Optimizer\n",
    "#opt = Adam(learning_rate=0.1, clipnorm=1)#clipvalue=0.5\n",
    "opt = RMSprop(learning_rate=0.1)#, clipvalue=0.5)\n",
    "\n",
    "model = Sequential()\n",
    "#model.add(Input(x.shape)) #put the network shapes\n",
    "model.add(Masking(mask_value=-2.))\n",
    "model.add(LSTM(64,\n",
    "               input_shape=((x.shape[1],x.shape[2])), # put the shape of the network\n",
    "               recurrent_dropout=0,#.3,\n",
    "               #return_sequences=True,\n",
    "               dtype='float32'))#, activation='tanh'))\n",
    "model.add(GlobalAveragePooling1D(dtype='float32'))\n",
    "#model.add(LSTM(64, dtype='float32'))\n",
    "#model.add(BatchNormalization(dtype='float32'))\n",
    "#model.add(Dropout(0.3, dtype='float32'))\n",
    "#model.add(Dense(32, activation='tanh', dtype='float32'))#activation='relu', activation=\"softmax\"\n",
    "#model.add(Dropout(0.3))\n",
    "#model.add(Activation('tanh'))#relu\n",
    "#model.add(Dense(32, activation='tanh', dtype='float32'))#relu\n",
    "#model.add(Dropout(0.3, dtype='float32'))#0.3, \n",
    "model.add(Dense(len(types), activation='softmax', dtype='float32'))\n",
    "model.compile(optimizer=opt, loss='categorical_crossentropy', metrics=[\"accuracy\"])\n",
    "\n",
    "#model.add(SimpleRNN(128, dtype='float64'))\n",
    "#model.add(LSTM(128, return_sequences=True, recurrent_dropout=0, dtype='float32'))\n",
    "#model.add(LSTM(128, dtype='float32'))#, activation='tanh'))\n",
    "#model.add(BatchNormalization(dtype='float32'))\n",
    "#model.add(Dropout(0, dtype='float32'))\n",
    "#model.add(Dropout(0, dtype='float32'))\n",
    "#model.add(Dense(128, activation='tanh'))#softmax\n",
    "#model.add(LeakyReLU(alpha=0.1))\n",
    "#model.add(BatchNormalization(dtype='float32'))\n",
    "#model.add(Dropout(0, dtype='float32'))\n",
    "#model.add(Dense(64, activation=\"softmax\"))#softmax\n",
    "#model.add(Dense(len(types), activation='softmax', dtype='float32'))#, activation=\"softmax\"\n",
    "#model.add(BatchNormalization(dtype='float32'))\n",
    "#model.add(Dropout(0, dtype='float32'))\n",
    "#model.add(LeakyReLU(alpha=0.1, dtype='float64'))\n",
    "#model.compile(optimizer='adam', loss=\"categorical_crossentropy\", metrics=[\"accuracy\"])\n",
    "#model.compile(optimizer=opt, loss='categorical_crossentropy', metrics=[\"accuracy\"])\n",
    "\n",
    "model.fit(x, yhat)\n",
    "model.summary()"
   ]
  },
  {
   "cell_type": "markdown",
   "metadata": {},
   "source": [
    "### Training the Model"
   ]
  },
  {
   "cell_type": "code",
   "execution_count": 92,
   "metadata": {},
   "outputs": [
    {
     "name": "stdout",
     "output_type": "stream",
     "text": [
      "Epoch 1/5\n",
      "34/34 [==============================] - 14s 407ms/step - loss: 2.0707 - accuracy: 0.4280 - val_loss: 2.4085 - val_accuracy: 0.3088\n",
      "Epoch 2/5\n",
      "34/34 [==============================] - 13s 380ms/step - loss: 2.5268 - accuracy: 0.3395 - val_loss: 4.4672 - val_accuracy: 0.3676\n",
      "Epoch 3/5\n",
      "34/34 [==============================] - 14s 407ms/step - loss: 2.3007 - accuracy: 0.3284 - val_loss: 1.7588 - val_accuracy: 0.3676\n",
      "Epoch 4/5\n",
      "34/34 [==============================] - 12s 361ms/step - loss: 2.4321 - accuracy: 0.3210 - val_loss: 3.6323 - val_accuracy: 0.3676\n",
      "Epoch 5/5\n",
      "34/34 [==============================] - 14s 412ms/step - loss: 1.7511 - accuracy: 0.3985 - val_loss: 1.3053 - val_accuracy: 0.3088\n"
     ]
    },
    {
     "data": {
      "text/plain": [
       "<tensorflow.python.keras.callbacks.History at 0x7f7d157529e8>"
      ]
     },
     "execution_count": 92,
     "metadata": {},
     "output_type": "execute_result"
    }
   ],
   "source": [
    "model.fit(x_train, y_train, batch_size=8, epochs=5, validation_data=(x_test, y_test))\n",
    "#model.fit(x_train, y_train, batch_size=32, epochs=10, validation_data=(x_test, y_test))\n",
    "#model.fit(x, yhat, batch_size=32, epochs=10, validation_split=0.2, verbose=2)"
   ]
  },
  {
   "cell_type": "markdown",
   "metadata": {},
   "source": [
    "### Save the Model\n",
    "Saves the model to a h5 file to be used for predictions"
   ]
  },
  {
   "cell_type": "code",
   "execution_count": null,
   "metadata": {},
   "outputs": [],
   "source": [
    "model.save('poseNetworkLSTM.h5')"
   ]
  },
  {
   "cell_type": "markdown",
   "metadata": {},
   "source": [
    "### Make Predictions"
   ]
  },
  {
   "cell_type": "code",
   "execution_count": null,
   "metadata": {},
   "outputs": [],
   "source": [
    "model.predict(x)"
   ]
  },
  {
   "cell_type": "code",
   "execution_count": null,
   "metadata": {},
   "outputs": [],
   "source": [
    "#accuracy is around 33%, basically guessing, also not learning, which is likely from the loss being nan\n",
    "#batch normalization got rid of nan loss but did not learn"
   ]
  },
  {
   "cell_type": "code",
   "execution_count": 68,
   "metadata": {},
   "outputs": [
    {
     "data": {
      "text/plain": [
       "array([[[False, False, False, ..., False, False, False],\n",
       "        [False, False, False, ..., False, False, False],\n",
       "        [False, False, False, ..., False, False, False],\n",
       "        ...,\n",
       "        [False, False, False, ..., False, False, False],\n",
       "        [False, False, False, ..., False, False, False],\n",
       "        [False, False, False, ..., False, False, False]],\n",
       "\n",
       "       [[False, False, False, ..., False, False, False],\n",
       "        [False, False, False, ..., False, False, False],\n",
       "        [False, False, False, ..., False, False, False],\n",
       "        ...,\n",
       "        [False, False, False, ..., False, False, False],\n",
       "        [False, False, False, ..., False, False, False],\n",
       "        [False, False, False, ..., False, False, False]],\n",
       "\n",
       "       [[False, False, False, ..., False, False, False],\n",
       "        [False, False, False, ..., False, False, False],\n",
       "        [False, False, False, ..., False, False, False],\n",
       "        ...,\n",
       "        [False, False, False, ..., False, False, False],\n",
       "        [False, False, False, ..., False, False, False],\n",
       "        [False, False, False, ..., False, False, False]],\n",
       "\n",
       "       ...,\n",
       "\n",
       "       [[False, False, False, ..., False, False, False],\n",
       "        [False, False, False, ..., False, False, False],\n",
       "        [False, False, False, ..., False, False, False],\n",
       "        ...,\n",
       "        [False, False, False, ..., False, False, False],\n",
       "        [False, False, False, ..., False, False, False],\n",
       "        [False, False, False, ..., False, False, False]],\n",
       "\n",
       "       [[ True,  True,  True, ...,  True,  True,  True],\n",
       "        [ True,  True,  True, ...,  True,  True,  True],\n",
       "        [ True,  True,  True, ...,  True,  True,  True],\n",
       "        ...,\n",
       "        [False, False, False, ..., False, False, False],\n",
       "        [False, False, False, ..., False, False, False],\n",
       "        [False, False, False, ..., False, False, False]],\n",
       "\n",
       "       [[False, False, False, ..., False, False, False],\n",
       "        [False, False, False, ..., False, False, False],\n",
       "        [False, False, False, ..., False, False, False],\n",
       "        ...,\n",
       "        [False, False, False, ..., False, False, False],\n",
       "        [False, False, False, ..., False, False, False],\n",
       "        [False, False, False, ..., False, False, False]]])"
      ]
     },
     "execution_count": 68,
     "metadata": {},
     "output_type": "execute_result"
    }
   ],
   "source": [
    "#np.isnan(x_train)\n",
    "np.isnan(x_test)\n",
    "#assert not np.any(np.isnan(x_train))"
   ]
  },
  {
   "cell_type": "code",
   "execution_count": 66,
   "metadata": {},
   "outputs": [
    {
     "data": {
      "text/plain": [
       "array([[[ 0.30873084,  0.44448707, -0.32377079, ...,  0.43006051,\n",
       "          0.68181825,  0.27283329],\n",
       "        [ 0.31388295,  0.44408581, -0.40807772, ...,  0.42295274,\n",
       "          0.67439413,  0.26972276],\n",
       "        [ 0.3157241 ,  0.44592893, -0.42466444, ...,  0.41555202,\n",
       "          0.66938913,  0.26348847],\n",
       "        ...,\n",
       "        [-2.        , -2.        , -2.        , ..., -2.        ,\n",
       "         -2.        , -2.        ],\n",
       "        [-2.        , -2.        , -2.        , ..., -2.        ,\n",
       "         -2.        , -2.        ],\n",
       "        [-2.        , -2.        , -2.        , ..., -2.        ,\n",
       "         -2.        , -2.        ]],\n",
       "\n",
       "       [[ 0.51756209,  0.33402985, -0.74317491, ...,  0.93503976,\n",
       "         -0.22448032,  0.9925518 ],\n",
       "        [ 0.51890945,  0.33931226, -0.70216596, ...,  0.93708634,\n",
       "         -0.29486123,  0.99280238],\n",
       "        [ 0.52325141,  0.34800079, -0.65835208, ...,  0.93772608,\n",
       "         -0.35195339,  0.99324012],\n",
       "        ...,\n",
       "        [-2.        , -2.        , -2.        , ..., -2.        ,\n",
       "         -2.        , -2.        ],\n",
       "        [-2.        , -2.        , -2.        , ..., -2.        ,\n",
       "         -2.        , -2.        ],\n",
       "        [-2.        , -2.        , -2.        , ..., -2.        ,\n",
       "         -2.        , -2.        ]],\n",
       "\n",
       "       [[ 0.40722686,  0.16950601, -1.15044725, ...,  0.68915248,\n",
       "          1.01125562,  0.28474072],\n",
       "        [ 0.4068242 ,  0.17724697, -0.97166348, ...,  0.68944389,\n",
       "          0.83046901,  0.26830551],\n",
       "        [ 0.40620628,  0.19199751, -1.00246358, ...,  0.66533399,\n",
       "          0.90380228,  0.25038975],\n",
       "        ...,\n",
       "        [-2.        , -2.        , -2.        , ..., -2.        ,\n",
       "         -2.        , -2.        ],\n",
       "        [-2.        , -2.        , -2.        , ..., -2.        ,\n",
       "         -2.        , -2.        ],\n",
       "        [-2.        , -2.        , -2.        , ..., -2.        ,\n",
       "         -2.        , -2.        ]],\n",
       "\n",
       "       ...,\n",
       "\n",
       "       [[ 0.48332396,  0.13197485, -0.44448036, ...,  0.78283352,\n",
       "         -0.03181785,  0.99225968],\n",
       "        [ 0.48338214,  0.13046856, -0.37762433, ...,  0.78323573,\n",
       "         -0.05867266,  0.99210888],\n",
       "        [ 0.48360857,  0.12839293, -0.38013008, ...,  0.78372598,\n",
       "         -0.05152659,  0.99182165],\n",
       "        ...,\n",
       "        [-2.        , -2.        , -2.        , ..., -2.        ,\n",
       "         -2.        , -2.        ],\n",
       "        [-2.        , -2.        , -2.        , ..., -2.        ,\n",
       "         -2.        , -2.        ],\n",
       "        [-2.        , -2.        , -2.        , ..., -2.        ,\n",
       "         -2.        , -2.        ]],\n",
       "\n",
       "       [[        nan,         nan,         nan, ...,         nan,\n",
       "                 nan,         nan],\n",
       "        [        nan,         nan,         nan, ...,         nan,\n",
       "                 nan,         nan],\n",
       "        [        nan,         nan,         nan, ...,         nan,\n",
       "                 nan,         nan],\n",
       "        ...,\n",
       "        [-2.        , -2.        , -2.        , ..., -2.        ,\n",
       "         -2.        , -2.        ],\n",
       "        [-2.        , -2.        , -2.        , ..., -2.        ,\n",
       "         -2.        , -2.        ],\n",
       "        [-2.        , -2.        , -2.        , ..., -2.        ,\n",
       "         -2.        , -2.        ]],\n",
       "\n",
       "       [[ 0.2843715 ,  0.4622547 , -0.29464743, ...,  0.46734372,\n",
       "          0.60803884,  0.21690598],\n",
       "        [ 0.28645137,  0.48219603, -0.30222481, ...,  0.46345094,\n",
       "          0.65073144,  0.22533095],\n",
       "        [ 0.29216245,  0.50258166, -0.31803912, ...,  0.45011297,\n",
       "          0.69210178,  0.23504883],\n",
       "        ...,\n",
       "        [-2.        , -2.        , -2.        , ..., -2.        ,\n",
       "         -2.        , -2.        ],\n",
       "        [-2.        , -2.        , -2.        , ..., -2.        ,\n",
       "         -2.        , -2.        ],\n",
       "        [-2.        , -2.        , -2.        , ..., -2.        ,\n",
       "         -2.        , -2.        ]]])"
      ]
     },
     "execution_count": 66,
     "metadata": {},
     "output_type": "execute_result"
    }
   ],
   "source": [
    "x_train"
   ]
  },
  {
   "cell_type": "code",
   "execution_count": 69,
   "metadata": {},
   "outputs": [
    {
     "data": {
      "text/plain": [
       "array([[[ 0.30873084,  0.44448707, -0.32377079, ...,  0.43006051,\n",
       "          0.68181825,  0.27283329],\n",
       "        [ 0.31388295,  0.44408581, -0.40807772, ...,  0.42295274,\n",
       "          0.67439413,  0.26972276],\n",
       "        [ 0.3157241 ,  0.44592893, -0.42466444, ...,  0.41555202,\n",
       "          0.66938913,  0.26348847],\n",
       "        ...,\n",
       "        [-2.        , -2.        , -2.        , ..., -2.        ,\n",
       "         -2.        , -2.        ],\n",
       "        [-2.        , -2.        , -2.        , ..., -2.        ,\n",
       "         -2.        , -2.        ],\n",
       "        [-2.        , -2.        , -2.        , ..., -2.        ,\n",
       "         -2.        , -2.        ]],\n",
       "\n",
       "       [[ 0.51756209,  0.33402985, -0.74317491, ...,  0.93503976,\n",
       "         -0.22448032,  0.9925518 ],\n",
       "        [ 0.51890945,  0.33931226, -0.70216596, ...,  0.93708634,\n",
       "         -0.29486123,  0.99280238],\n",
       "        [ 0.52325141,  0.34800079, -0.65835208, ...,  0.93772608,\n",
       "         -0.35195339,  0.99324012],\n",
       "        ...,\n",
       "        [-2.        , -2.        , -2.        , ..., -2.        ,\n",
       "         -2.        , -2.        ],\n",
       "        [-2.        , -2.        , -2.        , ..., -2.        ,\n",
       "         -2.        , -2.        ],\n",
       "        [-2.        , -2.        , -2.        , ..., -2.        ,\n",
       "         -2.        , -2.        ]],\n",
       "\n",
       "       [[ 0.40722686,  0.16950601, -1.15044725, ...,  0.68915248,\n",
       "          1.01125562,  0.28474072],\n",
       "        [ 0.4068242 ,  0.17724697, -0.97166348, ...,  0.68944389,\n",
       "          0.83046901,  0.26830551],\n",
       "        [ 0.40620628,  0.19199751, -1.00246358, ...,  0.66533399,\n",
       "          0.90380228,  0.25038975],\n",
       "        ...,\n",
       "        [-2.        , -2.        , -2.        , ..., -2.        ,\n",
       "         -2.        , -2.        ],\n",
       "        [-2.        , -2.        , -2.        , ..., -2.        ,\n",
       "         -2.        , -2.        ],\n",
       "        [-2.        , -2.        , -2.        , ..., -2.        ,\n",
       "         -2.        , -2.        ]],\n",
       "\n",
       "       ...,\n",
       "\n",
       "       [[ 0.48332396,  0.13197485, -0.44448036, ...,  0.78283352,\n",
       "         -0.03181785,  0.99225968],\n",
       "        [ 0.48338214,  0.13046856, -0.37762433, ...,  0.78323573,\n",
       "         -0.05867266,  0.99210888],\n",
       "        [ 0.48360857,  0.12839293, -0.38013008, ...,  0.78372598,\n",
       "         -0.05152659,  0.99182165],\n",
       "        ...,\n",
       "        [-2.        , -2.        , -2.        , ..., -2.        ,\n",
       "         -2.        , -2.        ],\n",
       "        [-2.        , -2.        , -2.        , ..., -2.        ,\n",
       "         -2.        , -2.        ],\n",
       "        [-2.        , -2.        , -2.        , ..., -2.        ,\n",
       "         -2.        , -2.        ]],\n",
       "\n",
       "       [[        nan,         nan,         nan, ...,         nan,\n",
       "                 nan,         nan],\n",
       "        [        nan,         nan,         nan, ...,         nan,\n",
       "                 nan,         nan],\n",
       "        [        nan,         nan,         nan, ...,         nan,\n",
       "                 nan,         nan],\n",
       "        ...,\n",
       "        [-2.        , -2.        , -2.        , ..., -2.        ,\n",
       "         -2.        , -2.        ],\n",
       "        [-2.        , -2.        , -2.        , ..., -2.        ,\n",
       "         -2.        , -2.        ],\n",
       "        [-2.        , -2.        , -2.        , ..., -2.        ,\n",
       "         -2.        , -2.        ]],\n",
       "\n",
       "       [[ 0.2843715 ,  0.4622547 , -0.29464743, ...,  0.46734372,\n",
       "          0.60803884,  0.21690598],\n",
       "        [ 0.28645137,  0.48219603, -0.30222481, ...,  0.46345094,\n",
       "          0.65073144,  0.22533095],\n",
       "        [ 0.29216245,  0.50258166, -0.31803912, ...,  0.45011297,\n",
       "          0.69210178,  0.23504883],\n",
       "        ...,\n",
       "        [-2.        , -2.        , -2.        , ..., -2.        ,\n",
       "         -2.        , -2.        ],\n",
       "        [-2.        , -2.        , -2.        , ..., -2.        ,\n",
       "         -2.        , -2.        ],\n",
       "        [-2.        , -2.        , -2.        , ..., -2.        ,\n",
       "         -2.        , -2.        ]]])"
      ]
     },
     "execution_count": 69,
     "metadata": {},
     "output_type": "execute_result"
    }
   ],
   "source": [
    "x_test"
   ]
  },
  {
   "cell_type": "code",
   "execution_count": 75,
   "metadata": {},
   "outputs": [
    {
     "data": {
      "text/plain": [
       "array([[  9,  18,   0],\n",
       "       [  9,  18,   1],\n",
       "       [  9,  18,   2],\n",
       "       ...,\n",
       "       [329,   0, 129],\n",
       "       [329,   0, 130],\n",
       "       [329,   0, 131]])"
      ]
     },
     "execution_count": 75,
     "metadata": {},
     "output_type": "execute_result"
    }
   ],
   "source": [
    "np.argwhere(np.isnan(x))"
   ]
  },
  {
   "cell_type": "code",
   "execution_count": 84,
   "metadata": {},
   "outputs": [
    {
     "data": {
      "text/plain": [
       "array([-2., -2., -2., -2., -2., -2., -2., -2., -2., -2., -2., -2., -2.,\n",
       "       -2., -2., -2., -2., -2., -2., -2., -2., -2., -2., -2., -2., -2.,\n",
       "       -2., -2., -2., -2., -2., -2., -2., -2., -2., -2., -2., -2., -2.,\n",
       "       -2., -2., -2., -2., -2., -2., -2., -2., -2., -2., -2., -2., -2.,\n",
       "       -2., -2., -2., -2., -2., -2., -2., -2., -2., -2., -2., -2., -2.,\n",
       "       -2., -2., -2., -2., -2., -2., -2., -2., -2., -2., -2., -2., -2.,\n",
       "       -2., -2., -2., -2., -2., -2., -2., -2., -2., -2., -2., -2., -2.,\n",
       "       -2., -2., -2., -2., -2., -2., -2., -2., -2., -2., -2., -2., -2.,\n",
       "       -2., -2., -2., -2., -2., -2., -2., -2., -2., -2., -2., -2., -2.,\n",
       "       -2., -2., -2., -2., -2., -2., -2., -2., -2., -2., -2., -2., -2.,\n",
       "       -2., -2.])"
      ]
     },
     "execution_count": 84,
     "metadata": {},
     "output_type": "execute_result"
    }
   ],
   "source": [
    "x[9][18]"
   ]
  },
  {
   "cell_type": "code",
   "execution_count": null,
   "metadata": {},
   "outputs": [],
   "source": []
  }
 ],
 "metadata": {
  "kernelspec": {
   "display_name": "Python 3",
   "language": "python",
   "name": "python3"
  },
  "language_info": {
   "codemirror_mode": {
    "name": "ipython",
    "version": 3
   },
   "file_extension": ".py",
   "mimetype": "text/x-python",
   "name": "python",
   "nbconvert_exporter": "python",
   "pygments_lexer": "ipython3",
   "version": "3.6.9"
  }
 },
 "nbformat": 4,
 "nbformat_minor": 1
}
